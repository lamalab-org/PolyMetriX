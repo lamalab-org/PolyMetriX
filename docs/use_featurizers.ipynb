{
 "cells": [
  {
   "cell_type": "code",
   "execution_count": 5,
   "metadata": {},
   "outputs": [],
   "source": [
    "%reload_ext autoreload\n",
    "%autoreload 2"
   ]
  },
  {
   "cell_type": "code",
   "execution_count": 11,
   "metadata": {},
   "outputs": [],
   "source": [
    "import logging\n",
    "from typing import List, Optional\n",
    "import pandas as pd\n",
    "\n",
    "from polymetrix.featurizers.polymer import Polymer\n",
    "from polymetrix.featurizers.molecule import Molecule\n",
    "from polymetrix.featurizers.chemical_featurizer import (\n",
    "    NumHBondDonors,\n",
    "    NumHBondAcceptors,\n",
    "    NumRotatableBonds,\n",
    "    NumRings,\n",
    "    NumNonAromaticRings,\n",
    "    NumAromaticRings,\n",
    "    NumAtoms,\n",
    "    TopologicalSurfaceArea,\n",
    "    FractionBicyclicRings,\n",
    "    NumAliphaticHeterocycles,\n",
    "    SlogPVSA1,\n",
    "    BalabanJIndex,\n",
    "    MolecularWeight,\n",
    "    Sp3CarbonCountFeaturizer,\n",
    "    Sp2CarbonCountFeaturizer,\n",
    "    MaxEStateIndex,\n",
    "    SmrVSA5,\n",
    "    FpDensityMorgan1,\n",
    "    HalogenCounts,\n",
    "    BondCounts,\n",
    "    BridgingRingsCount,\n",
    "    MaxRingSize,\n",
    "    HeteroatomCount,\n",
    "    HeteroatomDensity,\n",
    ")\n",
    "from polymetrix.featurizers.sidechain_backbone_featurizer import (\n",
    "    SideChainFeaturizer,\n",
    "    NumSideChainFeaturizer,\n",
    "    BackBoneFeaturizer,\n",
    "    NumBackBoneFeaturizer,\n",
    "    FullPolymerFeaturizer,\n",
    "    SidechainLengthToStarAttachmentDistanceRatioFeaturizer,\n",
    "    StarToSidechainMinDistanceFeaturizer,\n",
    "    SidechainDiversityFeaturizer,\n",
    ")\n",
    "\n",
    "from polymetrix.featurizers.molecule import FullMolecularFeaturizer\n",
    "\n",
    "from polymetrix.featurizers.multiple_featurizer import MultipleFeaturizer\n",
    "\n",
    "from polymetrix.featurizers.comparator import PolymerMoleculeComparator"
   ]
  },
  {
   "cell_type": "markdown",
   "metadata": {},
   "source": [
    "### Full Polymer Featurization"
   ]
  },
  {
   "cell_type": "code",
   "execution_count": 6,
   "metadata": {},
   "outputs": [
    {
     "name": "stdout",
     "output_type": "stream",
     "text": [
      "num_rings_sum_fullpolymerfeaturizer: 1.00\n",
      "molecular_weight_sum_fullpolymerfeaturizer: 121.07\n",
      "topological_surface_area_sum_fullpolymerfeaturizer: 9.23\n",
      "num_rings_sum_fullpolymerfeaturizer: 0.00\n",
      "molecular_weight_sum_fullpolymerfeaturizer: 85.10\n",
      "topological_surface_area_sum_fullpolymerfeaturizer: 0.00\n"
     ]
    }
   ],
   "source": [
    "psmiles_list = [\n",
    "    \"c1ccccc1[*]CCO[*]\",\n",
    "    \"CC[*]CCCC[*]\",\n",
    "]\n",
    "\n",
    "full_featurizers = [\n",
    "    FullPolymerFeaturizer(NumRings()),\n",
    "    FullPolymerFeaturizer(MolecularWeight()),\n",
    "    FullPolymerFeaturizer(TopologicalSurfaceArea()),\n",
    "]\n",
    "full_multi_featurizer = MultipleFeaturizer(full_featurizers)\n",
    "\n",
    "for psmiles in psmiles_list:\n",
    "    polymer = Polymer.from_psmiles(psmiles)\n",
    "    features = full_multi_featurizer.featurize(polymer)\n",
    "    labels = full_multi_featurizer.feature_labels()\n",
    "\n",
    "    for label, value in zip(labels, features):\n",
    "        print(f\"{label}: {value:.2f}\")"
   ]
  },
  {
   "cell_type": "markdown",
   "metadata": {},
   "source": [
    "### Side Chain Featurization"
   ]
  },
  {
   "cell_type": "code",
   "execution_count": 5,
   "metadata": {},
   "outputs": [
    {
     "name": "stdout",
     "output_type": "stream",
     "text": [
      "numsidechainfeaturizer: 1.00\n",
      "num_atoms_sidechainfeaturizer_sum: 6.00\n",
      "num_hbond_donors_sidechainfeaturizer_sum: 0.00\n",
      "num_rotatable_bonds_sidechainfeaturizer_sum: 0.00\n",
      "numsidechainfeaturizer: 1.00\n",
      "num_atoms_sidechainfeaturizer_sum: 2.00\n",
      "num_hbond_donors_sidechainfeaturizer_sum: 0.00\n",
      "num_rotatable_bonds_sidechainfeaturizer_sum: 0.00\n"
     ]
    }
   ],
   "source": [
    "sidechain_featurizers = [\n",
    "    NumSideChainFeaturizer(),\n",
    "    SideChainFeaturizer(NumAtoms(agg=[\"sum\"])),\n",
    "    SideChainFeaturizer(NumHBondDonors(agg=[\"sum\"])),\n",
    "    SideChainFeaturizer(NumRotatableBonds(agg=[\"sum\"])),\n",
    "]\n",
    "sidechain_multi_featurizer = MultipleFeaturizer(sidechain_featurizers)\n",
    "\n",
    "for psmiles in psmiles_list:\n",
    "    polymer = Polymer.from_psmiles(psmiles)\n",
    "    features = sidechain_multi_featurizer.featurize(polymer)\n",
    "    labels = sidechain_multi_featurizer.feature_labels()\n",
    "    \n",
    "    for label, value in zip(labels, features):\n",
    "        print(f\"{label}: {value:.2f}\")\n"
   ]
  },
  {
   "cell_type": "markdown",
   "metadata": {},
   "source": [
    "### Backbone Featurization"
   ]
  },
  {
   "cell_type": "code",
   "execution_count": null,
   "metadata": {},
   "outputs": [
    {
     "name": "stdout",
     "output_type": "stream",
     "text": [
      "numbackbonefeaturizer: 1.00\n",
      "num_rings_sum_backbonefeaturizer: 0.00\n",
      "num_atoms_sum_backbonefeaturizer: 5.00\n",
      "topological_surface_area_sum_backbonefeaturizer: 9.23\n",
      "numbackbonefeaturizer: 1.00\n",
      "num_rings_sum_backbonefeaturizer: 0.00\n",
      "num_atoms_sum_backbonefeaturizer: 6.00\n",
      "topological_surface_area_sum_backbonefeaturizer: 0.00\n"
     ]
    }
   ],
   "source": [
    "backbone_featurizers = [\n",
    "    NumBackBoneFeaturizer(),\n",
    "    BackBoneFeaturizer(NumRings()),\n",
    "    BackBoneFeaturizer(NumAtoms()),\n",
    "    BackBoneFeaturizer(TopologicalSurfaceArea()),\n",
    "]\n",
    "backbone_multi_featurizer = MultipleFeaturizer(backbone_featurizers)\n",
    "\n",
    "for psmiles in psmiles_list:\n",
    "    polymer = Polymer.from_psmiles(psmiles)\n",
    "    features = backbone_multi_featurizer.featurize(polymer)\n",
    "    labels = backbone_multi_featurizer.feature_labels()\n",
    "    \n",
    "    for label, value in zip(labels, features):\n",
    "        print(f\"{label}: {value:.2f}\")"
   ]
  },
  {
   "cell_type": "markdown",
   "metadata": {},
   "source": [
    "### Full Molecular Featurization"
   ]
  },
  {
   "cell_type": "code",
   "execution_count": 27,
   "metadata": {},
   "outputs": [
    {
     "name": "stdout",
     "output_type": "stream",
     "text": [
      "num_rings_sum_fullmolecularfeaturizer: 0.00\n",
      "molecular_weight_sum_fullmolecularfeaturizer: 58.08\n",
      "topological_surface_area_sum_fullmolecularfeaturizer: 0.00\n",
      "num_rings_sum_fullmolecularfeaturizer: 3.00\n",
      "molecular_weight_sum_fullmolecularfeaturizer: 317.17\n",
      "topological_surface_area_sum_fullmolecularfeaturizer: 101.37\n",
      "num_rings_sum_fullmolecularfeaturizer: 3.00\n",
      "molecular_weight_sum_fullmolecularfeaturizer: 294.09\n",
      "topological_surface_area_sum_fullmolecularfeaturizer: 49.84\n",
      "num_rings_sum_fullmolecularfeaturizer: 4.00\n",
      "molecular_weight_sum_fullmolecularfeaturizer: 355.11\n",
      "topological_surface_area_sum_fullmolecularfeaturizer: 61.54\n"
     ]
    }
   ],
   "source": [
    "psmiles_list = [\n",
    "    \"CCCC\",\n",
    "    \"NC(=O)c1ccc2c(c1)nc(C1CCC(O)CC1)n2CCCO\",\n",
    "    \"CNC(=S)Nc1cccc(-c2cnc3ccccc3n2)c1\",\n",
    "    \"C#Cc1ccc(-c2nc(-c3cc[nH]c(=O)c3)c(-c3ccc(F)cc3)[nH]2)cc1\",\n",
    "]\n",
    "\n",
    "full_featurizers = [\n",
    "    FullMolecularFeaturizer(NumRings()),\n",
    "    FullMolecularFeaturizer(MolecularWeight()),\n",
    "    FullMolecularFeaturizer(TopologicalSurfaceArea()),\n",
    "]\n",
    "full_multi_featurizer = MultipleFeaturizer(full_featurizers)\n",
    "\n",
    "for psmiles in psmiles_list:\n",
    "    polymer = Molecule.from_smiles(psmiles)\n",
    "    features = full_multi_featurizer.featurize(polymer)\n",
    "    labels = full_multi_featurizer.feature_labels()\n",
    "\n",
    "    for label, value in zip(labels, features):\n",
    "        print(f\"{label}: {value:.2f}\")"
   ]
  },
  {
   "cell_type": "markdown",
   "metadata": {},
   "source": [
    "### Using Comparators to Compare Polymer and Molecule Features"
   ]
  },
  {
   "cell_type": "code",
   "execution_count": 12,
   "metadata": {},
   "outputs": [
    {
     "name": "stdout",
     "output_type": "stream",
     "text": [
      "Labels: ['molecular_weight_sum_fullpolymerfeaturizer_difference', 'num_hbond_donors_sum_fullpolymerfeaturizer_difference', 'num_hbond_acceptors_sum_fullpolymerfeaturizer_difference', 'num_rotatable_bonds_sum_fullpolymerfeaturizer_difference']\n",
      "Differences: [174.09794021   1.           0.           8.        ]\n",
      "  molecular_weight_sum_fullpolymerfeaturizer_difference: 174.097940208\n",
      "  num_hbond_donors_sum_fullpolymerfeaturizer_difference: 1.0\n",
      "  num_hbond_acceptors_sum_fullpolymerfeaturizer_difference: 0.0\n",
      "  num_rotatable_bonds_sum_fullpolymerfeaturizer_difference: 8.0\n"
     ]
    }
   ],
   "source": [
    "polymer = Polymer.from_psmiles('*CCCCCCNC(=O)c1ccc(C(=O)N*)c(Sc2ccccc2)c1')\n",
    "molecule = Molecule.from_smiles('CC(=O)OC1=CC=CC=C1C(=O)O')\n",
    "\n",
    "polymer_featurizers = [\n",
    "    FullPolymerFeaturizer(MolecularWeight()),\n",
    "    FullPolymerFeaturizer(NumHBondDonors()),\n",
    "    FullPolymerFeaturizer(NumHBondAcceptors()),\n",
    "    FullPolymerFeaturizer(NumRotatableBonds())\n",
    "]\n",
    "\n",
    "molecule_featurizers = [\n",
    "    FullMolecularFeaturizer(MolecularWeight()),\n",
    "    FullMolecularFeaturizer(NumHBondDonors()),\n",
    "    FullMolecularFeaturizer(NumHBondAcceptors()),\n",
    "    FullMolecularFeaturizer(NumRotatableBonds())\n",
    "]\n",
    "\n",
    "polymer_multi = MultipleFeaturizer(polymer_featurizers)\n",
    "molecule_multi = MultipleFeaturizer(molecule_featurizers)\n",
    "\n",
    "comparator = PolymerMoleculeComparator(polymer_multi, molecule_multi)\n",
    "\n",
    "difference = comparator.compare(polymer, molecule)\n",
    "\n",
    "labels = comparator.feature_labels()\n",
    "\n",
    "print(f\"Labels: {labels}\")\n",
    "print(f\"Differences: {difference}\")\n",
    "\n",
    "# Print feature-wise results\n",
    "for label, diff in zip(labels, difference):\n",
    "    print(f\"  {label}: {diff}\")"
   ]
  }
 ],
 "metadata": {
  "kernelspec": {
   "display_name": "polymetrix",
   "language": "python",
   "name": "python3"
  },
  "language_info": {
   "codemirror_mode": {
    "name": "ipython",
    "version": 3
   },
   "file_extension": ".py",
   "mimetype": "text/x-python",
   "name": "python",
   "nbconvert_exporter": "python",
   "pygments_lexer": "ipython3",
   "version": "3.10.14"
  }
 },
 "nbformat": 4,
 "nbformat_minor": 2
}
